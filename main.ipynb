{
 "cells": [
  {
   "cell_type": "markdown",
   "metadata": {},
   "source": [
    "## 環境のテストと依存関係のインストール"
   ]
  },
  {
   "cell_type": "code",
   "execution_count": null,
   "metadata": {
    "vscode": {
     "languageId": "bat"
    }
   },
   "outputs": [],
   "source": [
    "print(sys.version)"
   ]
  },
  {
   "cell_type": "code",
   "execution_count": null,
   "metadata": {},
   "outputs": [],
   "source": [
    "pip install -r requirements.txt"
   ]
  },
  {
   "cell_type": "markdown",
   "metadata": {},
   "source": [
    "## 正弦波の単純生成"
   ]
  },
  {
   "cell_type": "code",
   "execution_count": 48,
   "metadata": {},
   "outputs": [
    {
     "ename": "NameError",
     "evalue": "name 'wavoute' is not defined",
     "output_type": "error",
     "traceback": [
      "\u001b[1;31m---------------------------------------------------------------------------\u001b[0m",
      "\u001b[1;31mNameError\u001b[0m                                 Traceback (most recent call last)",
      "\u001b[1;32mc:\\Users\\michi\\source\\FourierConverter\\main.ipynb Cell 5'\u001b[0m in \u001b[0;36m<cell line: 25>\u001b[1;34m()\u001b[0m\n\u001b[0;32m     <a href='vscode-notebook-cell:/c%3A/Users/michi/source/FourierConverter/main.ipynb#ch0000004?line=21'>22</a>\u001b[0m     w\u001b[39m.\u001b[39mwriteframes(wavoute)\n\u001b[0;32m     <a href='vscode-notebook-cell:/c%3A/Users/michi/source/FourierConverter/main.ipynb#ch0000004?line=22'>23</a>\u001b[0m     w\u001b[39m.\u001b[39mclose()\n\u001b[1;32m---> <a href='vscode-notebook-cell:/c%3A/Users/michi/source/FourierConverter/main.ipynb#ch0000004?line=24'>25</a>\u001b[0m create(amplitude, sampling_freq, basic_freq, time)\n",
      "\u001b[1;32mc:\\Users\\michi\\source\\FourierConverter\\main.ipynb Cell 5'\u001b[0m in \u001b[0;36mcreate\u001b[1;34m(amplitude, sampling_freq, basic_freq, time)\u001b[0m\n\u001b[0;32m     <a href='vscode-notebook-cell:/c%3A/Users/michi/source/FourierConverter/main.ipynb#ch0000004?line=19'>20</a>\u001b[0m p \u001b[39m=\u001b[39m (\u001b[39m1\u001b[39m, \u001b[39m2\u001b[39m, sampling_freq, \u001b[39mlen\u001b[39m(waveout), \u001b[39m'\u001b[39m\u001b[39mNONE\u001b[39m\u001b[39m'\u001b[39m, \u001b[39m'\u001b[39m\u001b[39mnot compressed\u001b[39m\u001b[39m'\u001b[39m)\n\u001b[0;32m     <a href='vscode-notebook-cell:/c%3A/Users/michi/source/FourierConverter/main.ipynb#ch0000004?line=20'>21</a>\u001b[0m w\u001b[39m.\u001b[39msetparams(p)\n\u001b[1;32m---> <a href='vscode-notebook-cell:/c%3A/Users/michi/source/FourierConverter/main.ipynb#ch0000004?line=21'>22</a>\u001b[0m w\u001b[39m.\u001b[39mwriteframes(wavoute)\n\u001b[0;32m     <a href='vscode-notebook-cell:/c%3A/Users/michi/source/FourierConverter/main.ipynb#ch0000004?line=22'>23</a>\u001b[0m w\u001b[39m.\u001b[39mclose()\n",
      "\u001b[1;31mNameError\u001b[0m: name 'wavoute' is not defined"
     ]
    }
   ],
   "source": [
    "import numpy as np\n",
    "from matplotlib import pyplot as plt\n",
    "import librosa\n",
    "import wave\n",
    "import struct\n",
    "\n",
    "# Parameter\n",
    "amplitude = 1\n",
    "sampling_freq = 44100\n",
    "time = 1\n",
    "basic_freq=int(input('基本周波数[Hz] : '))\n",
    "\n",
    "def create(amplitude, sampling_freq, basic_freq, time):\n",
    "    point = np.arange(0,sampling_freq*time)\n",
    "    sample = amplitude* np.sin(2*np.pi*basic_freq*point/sampling_freq)\n",
    "    sample = [int(x * 32767.0) for x in sample]\n",
    "    waveout = struct.pack(\"h\" * len(sample), *sample)\n",
    "    \n",
    "    w = wave.Wave_write(str(basic_freq) + 'Hz.wav')\n",
    "    p = (1, 2, sampling_freq, len(waveout), 'NONE', 'not compressed')\n",
    "    w.setparams(p)\n",
    "    w.writeframes(waveout)\n",
    "    w.close()\n",
    "\n",
    "create(amplitude, sampling_freq, basic_freq, time)"
   ]
  },
  {
   "cell_type": "code",
   "execution_count": 40,
   "metadata": {},
   "outputs": [
    {
     "ename": "FileNotFoundError",
     "evalue": "[Errno 2] No such file or directory: '440Hz.wav'",
     "output_type": "error",
     "traceback": [
      "\u001b[1;31m---------------------------------------------------------------------------\u001b[0m",
      "\u001b[1;31mFileNotFoundError\u001b[0m                         Traceback (most recent call last)",
      "\u001b[1;32mc:\\Users\\michi\\source\\FourierConverter\\main.ipynb Cell 6'\u001b[0m in \u001b[0;36m<cell line: 19>\u001b[1;34m()\u001b[0m\n\u001b[0;32m     <a href='vscode-notebook-cell:/c%3A/Users/michi/source/FourierConverter/main.ipynb#ch0000005?line=15'>16</a>\u001b[0m filepath \u001b[39m=\u001b[39m \u001b[39minput\u001b[39m(\u001b[39m'\u001b[39m\u001b[39mAudio File Path[*.wav] : \u001b[39m\u001b[39m'\u001b[39m)\n\u001b[0;32m     <a href='vscode-notebook-cell:/c%3A/Users/michi/source/FourierConverter/main.ipynb#ch0000005?line=17'>18</a>\u001b[0m N \u001b[39m=\u001b[39m \u001b[39m44100\u001b[39m\n\u001b[1;32m---> <a href='vscode-notebook-cell:/c%3A/Users/michi/source/FourierConverter/main.ipynb#ch0000005?line=18'>19</a>\u001b[0m s, rate \u001b[39m=\u001b[39m load_wav(filepath, N)\n\u001b[0;32m     <a href='vscode-notebook-cell:/c%3A/Users/michi/source/FourierConverter/main.ipynb#ch0000005?line=19'>20</a>\u001b[0m T \u001b[39m=\u001b[39m np\u001b[39m.\u001b[39marange(\u001b[39m0\u001b[39m, N \u001b[39m/\u001b[39m rate, \u001b[39m1\u001b[39m \u001b[39m/\u001b[39m rate)\n\u001b[0;32m     <a href='vscode-notebook-cell:/c%3A/Users/michi/source/FourierConverter/main.ipynb#ch0000005?line=21'>22</a>\u001b[0m plt\u001b[39m.\u001b[39mplot(T, s)\n",
      "\u001b[1;32mc:\\Users\\michi\\source\\FourierConverter\\main.ipynb Cell 6'\u001b[0m in \u001b[0;36mload_wav\u001b[1;34m(filename, N)\u001b[0m\n\u001b[0;32m      <a href='vscode-notebook-cell:/c%3A/Users/michi/source/FourierConverter/main.ipynb#ch0000005?line=5'>6</a>\u001b[0m \u001b[39mdef\u001b[39;00m \u001b[39mload_wav\u001b[39m(filename, N):\n\u001b[1;32m----> <a href='vscode-notebook-cell:/c%3A/Users/michi/source/FourierConverter/main.ipynb#ch0000005?line=6'>7</a>\u001b[0m     \u001b[39mwith\u001b[39;00m wave\u001b[39m.\u001b[39;49mopen(filename, \u001b[39m'\u001b[39;49m\u001b[39mr\u001b[39;49m\u001b[39m'\u001b[39;49m) \u001b[39mas\u001b[39;00m wav:\n\u001b[0;32m      <a href='vscode-notebook-cell:/c%3A/Users/michi/source/FourierConverter/main.ipynb#ch0000005?line=7'>8</a>\u001b[0m         fr \u001b[39m=\u001b[39m wav\u001b[39m.\u001b[39mgetframerate()\n\u001b[0;32m      <a href='vscode-notebook-cell:/c%3A/Users/michi/source/FourierConverter/main.ipynb#ch0000005?line=8'>9</a>\u001b[0m         data \u001b[39m=\u001b[39m wav\u001b[39m.\u001b[39mreadframes(N)\n",
      "File \u001b[1;32mc:\\Users\\michi\\AppData\\Local\\Programs\\Python\\Python310\\lib\\wave.py:509\u001b[0m, in \u001b[0;36mopen\u001b[1;34m(f, mode)\u001b[0m\n\u001b[0;32m    <a href='file:///c%3A/Users/michi/AppData/Local/Programs/Python/Python310/lib/wave.py?line=506'>507</a>\u001b[0m         mode \u001b[39m=\u001b[39m \u001b[39m'\u001b[39m\u001b[39mrb\u001b[39m\u001b[39m'\u001b[39m\n\u001b[0;32m    <a href='file:///c%3A/Users/michi/AppData/Local/Programs/Python/Python310/lib/wave.py?line=507'>508</a>\u001b[0m \u001b[39mif\u001b[39;00m mode \u001b[39min\u001b[39;00m (\u001b[39m'\u001b[39m\u001b[39mr\u001b[39m\u001b[39m'\u001b[39m, \u001b[39m'\u001b[39m\u001b[39mrb\u001b[39m\u001b[39m'\u001b[39m):\n\u001b[1;32m--> <a href='file:///c%3A/Users/michi/AppData/Local/Programs/Python/Python310/lib/wave.py?line=508'>509</a>\u001b[0m     \u001b[39mreturn\u001b[39;00m Wave_read(f)\n\u001b[0;32m    <a href='file:///c%3A/Users/michi/AppData/Local/Programs/Python/Python310/lib/wave.py?line=509'>510</a>\u001b[0m \u001b[39melif\u001b[39;00m mode \u001b[39min\u001b[39;00m (\u001b[39m'\u001b[39m\u001b[39mw\u001b[39m\u001b[39m'\u001b[39m, \u001b[39m'\u001b[39m\u001b[39mwb\u001b[39m\u001b[39m'\u001b[39m):\n\u001b[0;32m    <a href='file:///c%3A/Users/michi/AppData/Local/Programs/Python/Python310/lib/wave.py?line=510'>511</a>\u001b[0m     \u001b[39mreturn\u001b[39;00m Wave_write(f)\n",
      "File \u001b[1;32mc:\\Users\\michi\\AppData\\Local\\Programs\\Python\\Python310\\lib\\wave.py:159\u001b[0m, in \u001b[0;36mWave_read.__init__\u001b[1;34m(self, f)\u001b[0m\n\u001b[0;32m    <a href='file:///c%3A/Users/michi/AppData/Local/Programs/Python/Python310/lib/wave.py?line=156'>157</a>\u001b[0m \u001b[39mself\u001b[39m\u001b[39m.\u001b[39m_i_opened_the_file \u001b[39m=\u001b[39m \u001b[39mNone\u001b[39;00m\n\u001b[0;32m    <a href='file:///c%3A/Users/michi/AppData/Local/Programs/Python/Python310/lib/wave.py?line=157'>158</a>\u001b[0m \u001b[39mif\u001b[39;00m \u001b[39misinstance\u001b[39m(f, \u001b[39mstr\u001b[39m):\n\u001b[1;32m--> <a href='file:///c%3A/Users/michi/AppData/Local/Programs/Python/Python310/lib/wave.py?line=158'>159</a>\u001b[0m     f \u001b[39m=\u001b[39m builtins\u001b[39m.\u001b[39;49mopen(f, \u001b[39m'\u001b[39;49m\u001b[39mrb\u001b[39;49m\u001b[39m'\u001b[39;49m)\n\u001b[0;32m    <a href='file:///c%3A/Users/michi/AppData/Local/Programs/Python/Python310/lib/wave.py?line=159'>160</a>\u001b[0m     \u001b[39mself\u001b[39m\u001b[39m.\u001b[39m_i_opened_the_file \u001b[39m=\u001b[39m f\n\u001b[0;32m    <a href='file:///c%3A/Users/michi/AppData/Local/Programs/Python/Python310/lib/wave.py?line=160'>161</a>\u001b[0m \u001b[39m# else, assume it is an open file object already\u001b[39;00m\n",
      "\u001b[1;31mFileNotFoundError\u001b[0m: [Errno 2] No such file or directory: '440Hz.wav'"
     ]
    }
   ],
   "source": [
    "import numpy as np\n",
    "import matplotlib.pyplot as plt\n",
    "import wave\n",
    "from scipy.io.wavfile import write\n",
    "\n",
    "def load_wav(filename, N):\n",
    "    with wave.open(filename, 'r') as wav:\n",
    "        fr = wav.getframerate()\n",
    "        data = wav.readframes(N)\n",
    "        s = np.frombuffer(data, dtype=np.int16)\n",
    "        return s, fr\n",
    "\n",
    "def output_wav(filename, rate, data):\n",
    "    write(filename, rate, data.astype(np.int16))\n",
    "\n",
    "filepath = input('Audio File Path[*.wav] : ')\n",
    "\n",
    "N = 44100\n",
    "s, rate = load_wav(filepath, N)\n",
    "T = np.arange(0, N / rate, 1 / rate)\n",
    "\n",
    "plt.plot(T, s)\n",
    "plt.xlabel('Time')\n",
    "plt.ylabel('Gain')\n",
    "plt.show()\n",
    "\n",
    "# フーリエ変換\n",
    "fft_data = np.abs(np.fft.rfft(s))\n",
    "freqList = np.fft.rfftfreq(len(s), 1.0 / rate) \n",
    "plt.loglog(freqList, 10 * np.log(fft_data), '.-')\n",
    "plt.title('Fourier Graph: ' + str(filepath))\n",
    "plt.xlabel('周波数[Hz]', fontname='MS Gothic')\n",
    "plt.ylabel('レベル', fontname = \"MS Gothic\")\n",
    "plt.show()\n"
   ]
  }
 ],
 "metadata": {
  "interpreter": {
   "hash": "fe5dfc38941ad7bb3e0992181f60ce5e4f90d9e5528a61f4d981a977b73f3ae0"
  },
  "kernelspec": {
   "display_name": "Python 3.10.3 64-bit",
   "language": "python",
   "name": "python3"
  },
  "language_info": {
   "codemirror_mode": {
    "name": "ipython",
    "version": 3
   },
   "file_extension": ".py",
   "mimetype": "text/x-python",
   "name": "python",
   "nbconvert_exporter": "python",
   "pygments_lexer": "ipython3",
   "version": "3.10.3"
  },
  "orig_nbformat": 4
 },
 "nbformat": 4,
 "nbformat_minor": 2
}
