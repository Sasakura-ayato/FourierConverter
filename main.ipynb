{
 "cells": [
  {
   "cell_type": "markdown",
   "metadata": {},
   "source": [
    "## 環境のテストと依存関係のインストール"
   ]
  },
  {
   "cell_type": "code",
   "execution_count": null,
   "metadata": {
    "vscode": {
     "languageId": "bat"
    }
   },
   "outputs": [],
   "source": [
    "print(sys.version)"
   ]
  },
  {
   "cell_type": "code",
   "execution_count": null,
   "metadata": {},
   "outputs": [],
   "source": [
    "pip install -r requirements.txt"
   ]
  },
  {
   "cell_type": "markdown",
   "metadata": {},
   "source": [
    "## 正弦波の単純生成"
   ]
  },
  {
   "cell_type": "code",
   "execution_count": null,
   "metadata": {},
   "outputs": [],
   "source": [
    "import numpy as np\n",
    "from matplotlib import pyplot as plt\n",
    "import librosa\n",
    "import wave\n",
    "import struct\n",
    "\n",
    "# Parameter\n",
    "amplitude = 1\n",
    "sampling_freq = 44100\n",
    "time = 1\n",
    "basic_freq=int(input('基本周波数[Hz] : '))\n",
    "\n",
    "def create(amplitude, sampling_freq, basic_freq, time):\n",
    "    point = np.arange(0,sampling_freq*time)\n",
    "    sample = amplitude* np.sin(2*np.pi*basic_freq*point/sampling_freq)\n",
    "    sample = [int(x * 32767.0) for x in sample]\n",
    "    waveout = struct.pack(\"h\" * len(sample), *sample)\n",
    "    \n",
    "    w = wave.Wave_write(str(basic_freq) + 'Hz.wav')\n",
    "    p = (1, 2, sampling_freq, len(waveout), 'NONE', 'not compressed')\n",
    "    w.setparams(p)\n",
    "    w.writeframes(waveout)\n",
    "    w.close()\n",
    "\n",
    "create(amplitude, sampling_freq, basic_freq, time)"
   ]
  },
  {
   "cell_type": "code",
   "execution_count": null,
   "metadata": {},
   "outputs": [],
   "source": [
    "import numpy as np\n",
    "import matplotlib.pyplot as plt\n",
    "import wave\n",
    "from scipy.io.wavfile import write\n",
    "\n",
    "def load_wav(filename, N):\n",
    "    with wave.open(filename, 'r') as wav:\n",
    "        fr = wav.getframerate()\n",
    "        data = wav.readframes(N)\n",
    "        s = np.frombuffer(data, dtype=np.int16)\n",
    "        return s, fr\n",
    "\n",
    "def output_wav(filename, rate, data):\n",
    "    write(filename, rate, data.astype(np.int16))\n",
    "\n",
    "filepath = input('Audio File Path[*.wav] : ')\n",
    "\n",
    "N = 44100\n",
    "s, rate = load_wav(filepath, N)\n",
    "T = np.arange(0, N / rate, 1 / rate)\n",
    "\n",
    "plt.plot(T, s)\n",
    "plt.xlabel('Time')\n",
    "plt.ylabel('Gain')\n",
    "plt.show()\n",
    "\n",
    "# フーリエ変換\n",
    "fft_data = np.abs(np.fft.rfft(s))\n",
    "freqList = np.fft.rfftfreq(len(s), 1.0 / rate) \n",
    "plt.loglog(freqList, 10 * np.log(fft_data), '.-')\n",
    "plt.title('Fourier Graph: ' + str(filepath))\n",
    "plt.xlabel('周波数[Hz]', fontname='MS Gothic')\n",
    "plt.ylabel('レベル', fontname = \"MS Gothic\")\n",
    "plt.show()\n"
   ]
  }
 ],
 "metadata": {
  "interpreter": {
   "hash": "fe5dfc38941ad7bb3e0992181f60ce5e4f90d9e5528a61f4d981a977b73f3ae0"
  },
  "kernelspec": {
   "display_name": "Python 3.10.3 64-bit",
   "language": "python",
   "name": "python3"
  },
  "language_info": {
   "codemirror_mode": {
    "name": "ipython",
    "version": 3
   },
   "file_extension": ".py",
   "mimetype": "text/x-python",
   "name": "python",
   "nbconvert_exporter": "python",
   "pygments_lexer": "ipython3",
   "version": "3.10.3"
  },
  "orig_nbformat": 4
 },
 "nbformat": 4,
 "nbformat_minor": 2
}
