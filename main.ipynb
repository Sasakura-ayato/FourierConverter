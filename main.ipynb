{
 "cells": [
  {
   "cell_type": "markdown",
   "metadata": {},
   "source": [
    "## References"
   ]
  },
  {
   "cell_type": "markdown",
   "metadata": {},
   "source": [
    "- `plot_fourier.plot_fourier(source)` # WAVE ファイルを読み込む\n",
    "    - `source` = 音声のファイルパス\n",
    "\n",
    "- `make_wave.make_wave(frequency, time)` # 正弦波を生成し (*.wav) に書き込む\n",
    "    - `frequency` = 周波数\n",
    "    - `time` = 時間[s] / 初期値は 3 [s]\n",
    "\n",
    "- `plot_fourier.calc_snrdb(original, recorded)`\n",
    "    - `original` = 積分値(シグナルデータ)\n",
    "    - `recorded` = 積分値(ノイズデータ)"
   ]
  },
  {
   "cell_type": "code",
   "execution_count": null,
   "metadata": {},
   "outputs": [],
   "source": [
    "import make_wave\n",
    "import plot_fourier\n",
    "import numpy as np"
   ]
  },
  {
   "cell_type": "markdown",
   "metadata": {},
   "source": [
    "# Analysis"
   ]
  },
  {
   "cell_type": "markdown",
   "metadata": {},
   "source": [
    "## 些音あり"
   ]
  },
  {
   "cell_type": "code",
   "execution_count": null,
   "metadata": {},
   "outputs": [],
   "source": [
    "frequency_path = input('周波数パス')"
   ]
  },
  {
   "cell_type": "code",
   "execution_count": null,
   "metadata": {},
   "outputs": [],
   "source": [
    "tone = plot_fourier.plot_fourier('./' + str(frequency_path) + 'Hz.wav')\n",
    "noisy = plot_fourier.plot_fourier('./' + str(frequency_path) + 'Hz_tl.wav')\n",
    "plot_fourier.calc_snrdb(tone, noisy)"
   ]
  },
  {
   "cell_type": "markdown",
   "metadata": {},
   "source": [
    "## 些音なし"
   ]
  },
  {
   "cell_type": "code",
   "execution_count": null,
   "metadata": {},
   "outputs": [],
   "source": [
    "tone = plot_fourier.plot_fourier('./' + str(frequency_path) + 'Hz.wav')\n",
    "noisy = plot_fourier.plot_fourier('./' + str(frequency_path) + 'Hz_None.wav')\n",
    "plot_fourier.calc_snrdb(tone, noisy)"
   ]
  }
 ],
 "metadata": {
  "interpreter": {
   "hash": "fe5dfc38941ad7bb3e0992181f60ce5e4f90d9e5528a61f4d981a977b73f3ae0"
  },
  "kernelspec": {
   "display_name": "Python 3.10.3 64-bit",
   "language": "python",
   "name": "python3"
  },
  "language_info": {
   "codemirror_mode": {
    "name": "ipython",
    "version": 3
   },
   "file_extension": ".py",
   "mimetype": "text/x-python",
   "name": "python",
   "nbconvert_exporter": "python",
   "pygments_lexer": "ipython3",
   "version": "3.10.3"
  },
  "orig_nbformat": 4
 },
 "nbformat": 4,
 "nbformat_minor": 2
}
